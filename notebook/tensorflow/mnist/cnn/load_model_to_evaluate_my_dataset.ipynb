{
 "cells": [
  {
   "cell_type": "code",
   "execution_count": 92,
   "metadata": {},
   "outputs": [],
   "source": [
    "from tensorflow.keras import models\n",
    "import numpy as np\n",
    "import matplotlib.pyplot as plt\n",
    "import cv2"
   ]
  },
  {
   "cell_type": "code",
   "execution_count": 93,
   "metadata": {},
   "outputs": [],
   "source": [
    "test_images = []\n",
    "for i in range(10):\n",
    "    test_img = cv2.imread(f'datasets/{i}.png', cv2.IMREAD_GRAYSCALE)\n",
    "    test_img = cv2.resize(test_img, (28, 28))\n",
    "    test_img = test_img.astype('float32')\n",
    "    test_img = test_img.reshape(28, 28, 1)\n",
    "    test_img = 255-test_img\n",
    "    test_img /= 255\n",
    "    test_images.append(test_img)\n",
    "\n",
    "test_images = np.array(test_images)\n",
    "test_labels = np.array(range(10))\n"
   ]
  },
  {
   "cell_type": "code",
   "execution_count": 94,
   "metadata": {},
   "outputs": [],
   "source": [
    "def drawImg(imgs, amount, row, col):\n",
    "    for i in range(amount):\n",
    "        plt.subplot(row,col, i+1)\n",
    "        plt.yticks([])\n",
    "        plt.xticks([])\n",
    "        plt.grid(False)\n",
    "        plt.imshow(imgs[i], cmap='gray')"
   ]
  },
  {
   "cell_type": "code",
   "execution_count": 95,
   "metadata": {},
   "outputs": [
    {
     "data": {
      "image/png": "[encoded data removed]",
      "text/plain": [
       "<Figure size 432x288 with 10 Axes>"
      ]
     },
     "metadata": {},
     "output_type": "display_data"
    }
   ],
   "source": [
    "drawImg(test_images, 10, 2, 5)"
   ]
  },
  {
   "cell_type": "code",
   "execution_count": 96,
   "metadata": {},
   "outputs": [
    {
     "name": "stdout",
     "output_type": "stream",
     "text": [
      "\r",
      "10/10 [==============================] - 0s 30ms/sample - loss: 2.2646 - accuracy: 0.2000\n"
     ]
    }
   ],
   "source": [
    "#load model and evaluate\n",
    "model = models.load_model('save/mnist.h5')\n",
    "test_loss, test_acc = model.evaluate(test_images,  test_labels)"
   ]
  },
  {
   "cell_type": "code",
   "execution_count": 97,
   "metadata": {},
   "outputs": [
    {
     "name": "stdout",
     "output_type": "stream",
     "text": [
      "預測: [9 2 3 3 5 5 5 3 2 1]\n",
      "實際: [0 1 2 3 4 5 6 7 8 9]\n"
     ]
    }
   ],
   "source": [
    "print(f'預測: {np.argmax(model.predict(test_images), axis=-1)}')\n",
    "print(f'實際: {test_labels}')"
   ]
  },
  {
   "cell_type": "code",
   "execution_count": null,
   "metadata": {},
   "outputs": [],
   "source": []
  }
 ],
 "metadata": {
  "kernelspec": {
   "display_name": "Python 3",
   "language": "python",
   "name": "python3"
  },
  "language_info": {
   "codemirror_mode": {
    "name": "ipython",
    "version": 3
   },
   "file_extension": ".py",
   "mimetype": "text/x-python",
   "name": "python",
   "nbconvert_exporter": "python",
   "pygments_lexer": "ipython3",
   "version": "3.7.9"
  }
 },
 "nbformat": 4,
 "nbformat_minor": 4
}
