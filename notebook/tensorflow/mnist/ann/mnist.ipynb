{
 "cells": [
  {
   "cell_type": "code",
   "execution_count": 1,
   "metadata": {},
   "outputs": [],
   "source": [
    "from tensorflow.keras import models, layers, datasets\n",
    "from matplotlib import pyplot as plt\n",
    "\n",
    "mnist = datasets.mnist"
   ]
  },
  {
   "cell_type": "code",
   "execution_count": 2,
   "metadata": {},
   "outputs": [],
   "source": [
    "(x_train, y_train), (x_test, y_test) = mnist.load_data()\n",
    "x_train, x_test = x_train / 255.0, x_test / 255.0"
   ]
  },
  {
   "cell_type": "code",
   "execution_count": 3,
   "metadata": {},
   "outputs": [
    {
     "name": "stdout",
     "output_type": "stream",
     "text": [
      "Epoch 1/10\n",
      "1875/1875 [==============================] - 1s 783us/step - loss: 0.4419 - accuracy: 0.8775\n",
      "Epoch 2/10\n",
      "1875/1875 [==============================] - 1s 739us/step - loss: 0.2298 - accuracy: 0.9322\n",
      "Epoch 3/10\n",
      "1875/1875 [==============================] - 1s 722us/step - loss: 0.1755 - accuracy: 0.9484\n",
      "Epoch 4/10\n",
      "1875/1875 [==============================] - 1s 720us/step - loss: 0.1435 - accuracy: 0.9574\n",
      "Epoch 5/10\n",
      "1875/1875 [==============================] - 1s 741us/step - loss: 0.1191 - accuracy: 0.9646\n",
      "Epoch 6/10\n",
      "1875/1875 [==============================] - 1s 740us/step - loss: 0.1036 - accuracy: 0.9689\n",
      "Epoch 7/10\n",
      "1875/1875 [==============================] - 1s 721us/step - loss: 0.0924 - accuracy: 0.9722\n",
      "Epoch 8/10\n",
      "1875/1875 [==============================] - 1s 721us/step - loss: 0.0833 - accuracy: 0.9744\n",
      "Epoch 9/10\n",
      "1875/1875 [==============================] - 1s 734us/step - loss: 0.0757 - accuracy: 0.9770\n",
      "Epoch 10/10\n",
      "1875/1875 [==============================] - 1s 730us/step - loss: 0.0687 - accuracy: 0.9788\n",
      "313/313 [==============================] - 0s 686us/step - loss: 0.0785 - accuracy: 0.9759\n"
     ]
    }
   ],
   "source": [
    "model = models.Sequential([\n",
    "    layers.Flatten(input_shape=(28, 28)),\n",
    "    layers.Dense(128, activation='sigmoid'),\n",
    "    layers.Dropout(0.2),\n",
    "    layers.Dense(10, activation='softmax')\n",
    "])\n",
    "\n",
    "model.compile(optimizer='adam',loss='sparse_categorical_crossentropy',metrics=['accuracy'])\n",
    "\n",
    "model.fit(x_train, y_train, epochs=10)\n",
    "loss, acc = model.evaluate(x_test, y_test)\n",
    "model.save('save/mnist.h5')"
   ]
  },
  {
   "cell_type": "code",
   "execution_count": 4,
   "metadata": {},
   "outputs": [
    {
     "data": {
      "text/plain": [
       "'\\n#print data image\\n\\nfor i in range(0, 2):\\n    plt.imshow(x_train[i])\\n    plt.show()\\n'"
      ]
     },
     "execution_count": 4,
     "metadata": {},
     "output_type": "execute_result"
    }
   ],
   "source": [
    "'''\n",
    "#print data image\n",
    "\n",
    "for i in range(0, 2):\n",
    "    plt.imshow(x_train[i])\n",
    "    plt.show()\n",
    "'''"
   ]
  },
  {
   "cell_type": "code",
   "execution_count": 5,
   "metadata": {},
   "outputs": [
    {
     "name": "stdout",
     "output_type": "stream",
     "text": [
      "313/313 [==============================] - 0s 590us/step - loss: 0.0785 - accuracy: 0.9759\n"
     ]
    }
   ],
   "source": [
    "loadModel = models.load_model('save/mnist.h5', compile=False)\n",
    "loadModel.compile(optimizer='adam',loss='sparse_categorical_crossentropy',metrics=['accuracy'])\n",
    "loss, acc = loadModel.evaluate(x_test, y_test)"
   ]
  }
 ],
 "metadata": {
  "kernelspec": {
   "display_name": "Python 3",
   "language": "python",
   "name": "python3"
  },
  "language_info": {
   "codemirror_mode": {
    "name": "ipython",
    "version": 3
   },
   "file_extension": ".py",
   "mimetype": "text/x-python",
   "name": "python",
   "nbconvert_exporter": "python",
   "pygments_lexer": "ipython3",
   "version": "3.7.3"
  }
 },
 "nbformat": 4,
 "nbformat_minor": 2
}
