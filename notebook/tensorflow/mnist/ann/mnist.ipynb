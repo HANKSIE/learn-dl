{
 "cells": [
  {
   "cell_type": "code",
   "execution_count": 1,
   "metadata": {},
   "outputs": [],
   "source": [
    "from tensorflow.keras import models, layers, datasets\n",
    "from matplotlib import pyplot as plt\n",
    "\n",
    "mnist = datasets.mnist"
   ]
  },
  {
   "cell_type": "code",
   "execution_count": 2,
   "metadata": {},
   "outputs": [],
   "source": [
    "(x_train, y_train), (x_test, y_test) = mnist.load_data()\n",
    "x_train, x_test = x_train / 255.0, x_test / 255.0"
   ]
  },
  {
   "cell_type": "code",
   "execution_count": 3,
   "metadata": {},
   "outputs": [
    {
     "name": "stdout",
     "output_type": "stream",
     "text": [
      "Train on 60000 samples\n",
      "Epoch 1/10\n",
      "60000/60000 [==============================] - 4s 66us/sample - loss: 0.4457 - accuracy: 0.8773\n",
      "Epoch 2/10\n",
      "60000/60000 [==============================] - 3s 48us/sample - loss: 0.2279 - accuracy: 0.9334\n",
      "Epoch 3/10\n",
      "60000/60000 [==============================] - 3s 48us/sample - loss: 0.1728 - accuracy: 0.9488\n",
      "Epoch 4/10\n",
      "60000/60000 [==============================] - 3s 48us/sample - loss: 0.1386 - accuracy: 0.9595\n",
      "Epoch 5/10\n",
      "60000/60000 [==============================] - 3s 47us/sample - loss: 0.1164 - accuracy: 0.9653\n",
      "Epoch 6/10\n",
      "60000/60000 [==============================] - 3s 48us/sample - loss: 0.1000 - accuracy: 0.9701\n",
      "Epoch 7/10\n",
      "60000/60000 [==============================] - 3s 47us/sample - loss: 0.0885 - accuracy: 0.9728\n",
      "Epoch 8/10\n",
      "60000/60000 [==============================] - 3s 48us/sample - loss: 0.0797 - accuracy: 0.9757\n",
      "Epoch 9/10\n",
      "60000/60000 [==============================] - 3s 48us/sample - loss: 0.0712 - accuracy: 0.9783\n",
      "Epoch 10/10\n",
      "60000/60000 [==============================] - 3s 48us/sample - loss: 0.0654 - accuracy: 0.9803\n",
      "10000/10000 [==============================] - 0s 39us/sample - loss: 0.0731 - accuracy: 0.9755\n"
     ]
    }
   ],
   "source": [
    "model = models.Sequential([\n",
    "    layers.Flatten(input_shape=(28, 28)),\n",
    "    layers.Dense(128, activation='sigmoid'),\n",
    "    layers.Dropout(0.2),\n",
    "    layers.Dense(10, activation='softmax')\n",
    "])\n",
    "\n",
    "model.compile(optimizer='adam',loss='sparse_categorical_crossentropy',metrics=['accuracy'])\n",
    "\n",
    "model.fit(x_train, y_train, epochs=10)\n",
    "loss, acc = model.evaluate(x_test, y_test)\n",
    "model.save('save/mnist.h5')"
   ]
  },
  {
   "cell_type": "code",
   "execution_count": 4,
   "metadata": {},
   "outputs": [
    {
     "data": {
      "text/plain": [
       "'\\n#print data image\\n\\nfor i in range(0, 2):\\n    plt.imshow(x_train[i])\\n    plt.show()\\n'"
      ]
     },
     "execution_count": 4,
     "metadata": {},
     "output_type": "execute_result"
    }
   ],
   "source": [
    "'''\n",
    "#print data image\n",
    "\n",
    "for i in range(0, 2):\n",
    "    plt.imshow(x_train[i])\n",
    "    plt.show()\n",
    "'''"
   ]
  },
  {
   "cell_type": "code",
   "execution_count": 5,
   "metadata": {},
   "outputs": [
    {
     "name": "stdout",
     "output_type": "stream",
     "text": [
      "10000/10000 [==============================] - 0s 40us/sample - loss: 0.0731 - accuracy: 0.9755\n"
     ]
    }
   ],
   "source": [
    "loadModel = models.load_model('save/mnist.h5', compile=False)\n",
    "loadModel.compile(optimizer='adam',loss='sparse_categorical_crossentropy',metrics=['accuracy'])\n",
    "loss, acc = loadModel.evaluate(x_test, y_test)"
   ]
  }
 ],
 "metadata": {
  "kernelspec": {
   "display_name": "Python 3",
   "language": "python",
   "name": "python3"
  },
  "language_info": {
   "codemirror_mode": {
    "name": "ipython",
    "version": 3
   },
   "file_extension": ".py",
   "mimetype": "text/x-python",
   "name": "python",
   "nbconvert_exporter": "python",
   "pygments_lexer": "ipython3",
   "version": "3.7.9"
  }
 },
 "nbformat": 4,
 "nbformat_minor": 2
}
